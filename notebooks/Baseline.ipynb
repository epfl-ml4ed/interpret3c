{
 "cells": [
  {
   "cell_type": "code",
   "execution_count": 244,
   "metadata": {},
   "outputs": [
    {
     "name": "stdout",
     "output_type": "stream",
     "text": [
      "The autoreload extension is already loaded. To reload it, use:\n",
      "  %reload_ext autoreload\n"
     ]
    }
   ],
   "source": [
    "# Useful imports and setup\n",
    "import sys\n",
    "import os\n",
    "# Necessary to import code from ../scripts/\n",
    "module_path = os.path.abspath(os.path.join('..'))\n",
    "if module_path not in sys.path:\n",
    "    sys.path.append(module_path+\"/scripts\")\n",
    "    \n",
    "\n",
    "import numpy as np\n",
    "import pandas as pd\n",
    "import tensorflow as tf\n",
    "\n",
    "from preprocessing import preprocess\n",
    "from cluster import *\n",
    "from baseline import baseline_model, train_model, train_val_split\n",
    "\n",
    "%load_ext autoreload\n",
    "%autoreload 2\n",
    "\n",
    "MODEL_PATH = '../models/saved/'\n",
    "labels_path = '../labels/'\n",
    "cluster_model = 'kmeans'\n",
    "labels_cluster_path = labels_path + cluster_model + '/'\n",
    "data_path = '../data/'\n",
    "course = 'dsp_001'\n",
    "path = data_path + course + '/'\n",
    "feature_types = ['lalle_conati', 'boroujeni_et_al', 'chen_cui', 'marras_et_al']\n",
    "metadata = pd.read_csv(data_path + 'metadata.csv')\n",
    "hard_fail = path + 'feature_labels.csv'\n",
    "percentile = 0.6"
   ]
  },
  {
   "cell_type": "markdown",
   "metadata": {},
   "source": [
    "### Preprocess data"
   ]
  },
  {
   "cell_type": "code",
   "execution_count": 225,
   "metadata": {},
   "outputs": [],
   "source": [
    "x_train, x_test, x_val, y_train, y_test, y_val, feature_names, patterns = preprocess(course, path, percentile, feature_types, metadata, hard_fail)"
   ]
  },
  {
   "cell_type": "markdown",
   "metadata": {},
   "source": [
    "### Baseline cluster"
   ]
  },
  {
   "cell_type": "code",
   "execution_count": 226,
   "metadata": {},
   "outputs": [
    {
     "name": "stdout",
     "output_type": "stream",
     "text": [
      "X_flatten shape: (5611, 270)\n"
     ]
    }
   ],
   "source": [
    "# Concat features & labels\n",
    "X = np.concatenate([x_train, x_val, x_test], axis=0)\n",
    "Y = np.concatenate([y_train, y_val, y_test], axis=0)\n",
    "P = np.concatenate(patterns, axis=0)\n",
    "\n",
    "X_flatten = tf.reshape(X,[X.shape[0], X.shape[1]*X.shape[2]])\n",
    "print(\"X_flatten shape: {0}\".format(X_flatten.shape))"
   ]
  },
  {
   "cell_type": "code",
   "execution_count": 227,
   "metadata": {},
   "outputs": [
    {
     "name": "stdout",
     "output_type": "stream",
     "text": [
      "(0.12742339709773967, 2)\n",
      "(0.13441100656217003, 3)\n",
      "(0.12009081886613819, 4)\n",
      "(0.11131791149756463, 5)\n",
      "(0.11587989624886949, 6)\n",
      "(0.12433508706624707, 7)\n",
      "(0.12502867152972835, 8)\n",
      "(0.13177933338522793, 9)\n",
      "(0.13067800476772654, 10)\n"
     ]
    }
   ],
   "source": [
    "from sklearn.cluster import KMeans\n",
    "from sklearn.metrics import silhouette_score\n",
    "\n",
    "score, n = compute_number_clusters(X_flatten, kmeans_, silhouette_score)"
   ]
  },
  {
   "cell_type": "code",
   "execution_count": 228,
   "metadata": {},
   "outputs": [],
   "source": [
    "model = kmeans_(n)\n",
    "result = model.fit(X_flatten)\n",
    "labels = result.labels_"
   ]
  },
  {
   "cell_type": "markdown",
   "metadata": {},
   "source": [
    "#### Save cluster labels"
   ]
  },
  {
   "cell_type": "code",
   "execution_count": 246,
   "metadata": {},
   "outputs": [],
   "source": [
    "if not os.path.exists(labels_cluster_path):\n",
    "    os.makedirs(labels_cluster_path)\n",
    "\n",
    "np.savetxt(labels_cluster_path+'baseline_cluster_labels.txt', labels, fmt='%d')"
   ]
  },
  {
   "cell_type": "markdown",
   "metadata": {},
   "source": [
    "### Baseline classification for each cluster\n",
    "\n",
    "Using a baseline BiLSTM model"
   ]
  },
  {
   "cell_type": "code",
   "execution_count": 243,
   "metadata": {
    "scrolled": false
   },
   "outputs": [
    {
     "name": "stdout",
     "output_type": "stream",
     "text": [
      "Training prediction for cluster 0\n",
      "Epoch 1/20\n",
      "25/25 [==============================] - 7s 78ms/step - loss: 0.6452 - binary_accuracy: 0.7319 - val_loss: 0.5783 - val_binary_accuracy: 0.7514\n",
      "Epoch 2/20\n",
      "25/25 [==============================] - 0s 7ms/step - loss: 0.5514 - binary_accuracy: 0.7382 - val_loss: 0.4655 - val_binary_accuracy: 0.7514\n",
      "Epoch 3/20\n",
      "25/25 [==============================] - 0s 6ms/step - loss: 0.4543 - binary_accuracy: 0.7766 - val_loss: 0.3667 - val_binary_accuracy: 0.8418\n",
      "Epoch 4/20\n",
      "25/25 [==============================] - 0s 8ms/step - loss: 0.3529 - binary_accuracy: 0.8376 - val_loss: 0.2618 - val_binary_accuracy: 0.9040\n",
      "Epoch 5/20\n",
      "25/25 [==============================] - 0s 9ms/step - loss: 0.2531 - binary_accuracy: 0.9037 - val_loss: 0.2314 - val_binary_accuracy: 0.9266\n",
      "Epoch 6/20\n",
      "25/25 [==============================] - 0s 7ms/step - loss: 0.2366 - binary_accuracy: 0.9031 - val_loss: 0.2289 - val_binary_accuracy: 0.9266\n",
      "Epoch 7/20\n",
      "25/25 [==============================] - 0s 8ms/step - loss: 0.2222 - binary_accuracy: 0.9157 - val_loss: 0.2261 - val_binary_accuracy: 0.9209\n",
      "Epoch 8/20\n",
      "25/25 [==============================] - 0s 7ms/step - loss: 0.2138 - binary_accuracy: 0.9201 - val_loss: 0.2259 - val_binary_accuracy: 0.9266\n",
      "Epoch 9/20\n",
      "25/25 [==============================] - 0s 6ms/step - loss: 0.2056 - binary_accuracy: 0.9245 - val_loss: 0.2227 - val_binary_accuracy: 0.9266\n",
      "Epoch 10/20\n",
      "25/25 [==============================] - 0s 6ms/step - loss: 0.2019 - binary_accuracy: 0.9220 - val_loss: 0.2284 - val_binary_accuracy: 0.9266\n",
      "Epoch 11/20\n",
      "25/25 [==============================] - 0s 7ms/step - loss: 0.2009 - binary_accuracy: 0.9194 - val_loss: 0.2250 - val_binary_accuracy: 0.9322\n",
      "Epoch 12/20\n",
      "25/25 [==============================] - 0s 9ms/step - loss: 0.1957 - binary_accuracy: 0.9207 - val_loss: 0.2163 - val_binary_accuracy: 0.9322\n",
      "Epoch 13/20\n",
      "25/25 [==============================] - 0s 7ms/step - loss: 0.1898 - binary_accuracy: 0.9257 - val_loss: 0.2176 - val_binary_accuracy: 0.9322\n",
      "Epoch 14/20\n",
      "25/25 [==============================] - 0s 7ms/step - loss: 0.1888 - binary_accuracy: 0.9251 - val_loss: 0.2156 - val_binary_accuracy: 0.9266\n",
      "Epoch 15/20\n",
      "25/25 [==============================] - 0s 6ms/step - loss: 0.1861 - binary_accuracy: 0.9283 - val_loss: 0.2169 - val_binary_accuracy: 0.9266\n",
      "Epoch 16/20\n",
      "25/25 [==============================] - 0s 7ms/step - loss: 0.1842 - binary_accuracy: 0.9289 - val_loss: 0.2189 - val_binary_accuracy: 0.9266\n",
      "Epoch 17/20\n",
      "25/25 [==============================] - 0s 8ms/step - loss: 0.1858 - binary_accuracy: 0.9245 - val_loss: 0.2145 - val_binary_accuracy: 0.9209\n",
      "Epoch 18/20\n",
      "25/25 [==============================] - 0s 8ms/step - loss: 0.1804 - binary_accuracy: 0.9251 - val_loss: 0.2154 - val_binary_accuracy: 0.9266\n",
      "Epoch 19/20\n",
      "25/25 [==============================] - 0s 7ms/step - loss: 0.1808 - binary_accuracy: 0.9257 - val_loss: 0.2158 - val_binary_accuracy: 0.9209\n",
      "Epoch 20/20\n",
      "25/25 [==============================] - 0s 7ms/step - loss: 0.1800 - binary_accuracy: 0.9270 - val_loss: 0.2172 - val_binary_accuracy: 0.9266\n",
      "Training prediction for cluster 1\n",
      "Epoch 1/20\n",
      "39/39 [==============================] - 7s 87ms/step - loss: 0.6232 - binary_accuracy: 0.6835 - val_loss: 0.5179 - val_binary_accuracy: 0.7338\n",
      "Epoch 2/20\n",
      "39/39 [==============================] - 0s 5ms/step - loss: 0.4495 - binary_accuracy: 0.7800 - val_loss: 0.2937 - val_binary_accuracy: 0.8957\n",
      "Epoch 3/20\n",
      "39/39 [==============================] - 0s 5ms/step - loss: 0.2671 - binary_accuracy: 0.8942 - val_loss: 0.2282 - val_binary_accuracy: 0.9065\n",
      "Epoch 4/20\n",
      "39/39 [==============================] - 0s 6ms/step - loss: 0.2287 - binary_accuracy: 0.9058 - val_loss: 0.2236 - val_binary_accuracy: 0.9065\n",
      "Epoch 5/20\n",
      "39/39 [==============================] - 0s 6ms/step - loss: 0.2157 - binary_accuracy: 0.9103 - val_loss: 0.2191 - val_binary_accuracy: 0.9101\n",
      "Epoch 6/20\n",
      "39/39 [==============================] - 0s 5ms/step - loss: 0.2041 - binary_accuracy: 0.9183 - val_loss: 0.2135 - val_binary_accuracy: 0.9065\n",
      "Epoch 7/20\n",
      "39/39 [==============================] - 0s 5ms/step - loss: 0.1950 - binary_accuracy: 0.9239 - val_loss: 0.2121 - val_binary_accuracy: 0.9065\n",
      "Epoch 8/20\n",
      "39/39 [==============================] - 0s 5ms/step - loss: 0.1916 - binary_accuracy: 0.9223 - val_loss: 0.2062 - val_binary_accuracy: 0.9137\n",
      "Epoch 9/20\n",
      "39/39 [==============================] - 0s 5ms/step - loss: 0.1901 - binary_accuracy: 0.9223 - val_loss: 0.2061 - val_binary_accuracy: 0.9065\n",
      "Epoch 10/20\n",
      "39/39 [==============================] - 0s 5ms/step - loss: 0.1876 - binary_accuracy: 0.9231 - val_loss: 0.2076 - val_binary_accuracy: 0.9029\n",
      "Epoch 11/20\n",
      "39/39 [==============================] - 0s 5ms/step - loss: 0.1843 - binary_accuracy: 0.9251 - val_loss: 0.2056 - val_binary_accuracy: 0.9065\n",
      "Epoch 12/20\n",
      "39/39 [==============================] - 0s 5ms/step - loss: 0.1797 - binary_accuracy: 0.9243 - val_loss: 0.2049 - val_binary_accuracy: 0.9173\n",
      "Epoch 13/20\n",
      "39/39 [==============================] - 0s 5ms/step - loss: 0.1796 - binary_accuracy: 0.9243 - val_loss: 0.2023 - val_binary_accuracy: 0.9137\n",
      "Epoch 14/20\n",
      "39/39 [==============================] - 0s 5ms/step - loss: 0.1744 - binary_accuracy: 0.9271 - val_loss: 0.2010 - val_binary_accuracy: 0.9137\n",
      "Epoch 15/20\n",
      "39/39 [==============================] - 0s 5ms/step - loss: 0.1729 - binary_accuracy: 0.9287 - val_loss: 0.2009 - val_binary_accuracy: 0.9209\n",
      "Epoch 16/20\n",
      "39/39 [==============================] - 0s 5ms/step - loss: 0.1759 - binary_accuracy: 0.9279 - val_loss: 0.2097 - val_binary_accuracy: 0.9029\n",
      "Epoch 17/20\n",
      "39/39 [==============================] - 0s 6ms/step - loss: 0.1722 - binary_accuracy: 0.9283 - val_loss: 0.2181 - val_binary_accuracy: 0.9065\n",
      "Epoch 18/20\n",
      "39/39 [==============================] - 0s 5ms/step - loss: 0.1696 - binary_accuracy: 0.9323 - val_loss: 0.2058 - val_binary_accuracy: 0.9101\n",
      "Epoch 19/20\n",
      "39/39 [==============================] - 0s 6ms/step - loss: 0.1691 - binary_accuracy: 0.9279 - val_loss: 0.2267 - val_binary_accuracy: 0.9101\n",
      "Epoch 20/20\n",
      "39/39 [==============================] - 0s 6ms/step - loss: 0.1704 - binary_accuracy: 0.9283 - val_loss: 0.2095 - val_binary_accuracy: 0.9065\n",
      "Training prediction for cluster 2\n",
      "Epoch 1/20\n",
      "16/16 [==============================] - 8s 97ms/step - loss: 0.6413 - binary_accuracy: 0.8131 - val_loss: 0.6064 - val_binary_accuracy: 0.7685\n",
      "Epoch 2/20\n",
      "16/16 [==============================] - 0s 7ms/step - loss: 0.5444 - binary_accuracy: 0.8152 - val_loss: 0.5413 - val_binary_accuracy: 0.7685\n",
      "Epoch 3/20\n",
      "16/16 [==============================] - 0s 7ms/step - loss: 0.4714 - binary_accuracy: 0.8152 - val_loss: 0.5074 - val_binary_accuracy: 0.7685\n",
      "Epoch 4/20\n",
      "16/16 [==============================] - 0s 7ms/step - loss: 0.4327 - binary_accuracy: 0.8152 - val_loss: 0.4532 - val_binary_accuracy: 0.7685\n",
      "Epoch 5/20\n",
      "16/16 [==============================] - 0s 7ms/step - loss: 0.3914 - binary_accuracy: 0.8152 - val_loss: 0.3998 - val_binary_accuracy: 0.7685\n",
      "Epoch 6/20\n",
      "16/16 [==============================] - 0s 7ms/step - loss: 0.3487 - binary_accuracy: 0.8193 - val_loss: 0.3414 - val_binary_accuracy: 0.7870\n",
      "Epoch 7/20\n",
      "16/16 [==============================] - 0s 7ms/step - loss: 0.3097 - binary_accuracy: 0.8525 - val_loss: 0.2884 - val_binary_accuracy: 0.8796\n",
      "Epoch 8/20\n",
      "16/16 [==============================] - 0s 8ms/step - loss: 0.2700 - binary_accuracy: 0.8962 - val_loss: 0.2228 - val_binary_accuracy: 0.9444\n",
      "Epoch 9/20\n",
      "16/16 [==============================] - 0s 9ms/step - loss: 0.2206 - binary_accuracy: 0.9180 - val_loss: 0.1642 - val_binary_accuracy: 0.9630\n",
      "Epoch 10/20\n",
      "16/16 [==============================] - 0s 11ms/step - loss: 0.1822 - binary_accuracy: 0.9367 - val_loss: 0.1345 - val_binary_accuracy: 0.9630\n",
      "Epoch 11/20\n",
      "16/16 [==============================] - 0s 7ms/step - loss: 0.1688 - binary_accuracy: 0.9346 - val_loss: 0.1297 - val_binary_accuracy: 0.9630\n",
      "Epoch 12/20\n",
      "16/16 [==============================] - 0s 7ms/step - loss: 0.1599 - binary_accuracy: 0.9356 - val_loss: 0.1295 - val_binary_accuracy: 0.9537\n",
      "Epoch 13/20\n"
     ]
    },
    {
     "name": "stdout",
     "output_type": "stream",
     "text": [
      "16/16 [==============================] - 0s 7ms/step - loss: 0.1553 - binary_accuracy: 0.9367 - val_loss: 0.1285 - val_binary_accuracy: 0.9537\n",
      "Epoch 14/20\n",
      "16/16 [==============================] - 0s 7ms/step - loss: 0.1541 - binary_accuracy: 0.9377 - val_loss: 0.1243 - val_binary_accuracy: 0.9537\n",
      "Epoch 15/20\n",
      "16/16 [==============================] - 0s 7ms/step - loss: 0.1474 - binary_accuracy: 0.9439 - val_loss: 0.1191 - val_binary_accuracy: 0.9537\n",
      "Epoch 16/20\n",
      "16/16 [==============================] - 0s 7ms/step - loss: 0.1447 - binary_accuracy: 0.9429 - val_loss: 0.1258 - val_binary_accuracy: 0.9444\n",
      "Epoch 17/20\n",
      "16/16 [==============================] - 0s 8ms/step - loss: 0.1510 - binary_accuracy: 0.9418 - val_loss: 0.1152 - val_binary_accuracy: 0.9630\n",
      "Epoch 18/20\n",
      "16/16 [==============================] - 0s 8ms/step - loss: 0.1449 - binary_accuracy: 0.9439 - val_loss: 0.1149 - val_binary_accuracy: 0.9630\n",
      "Epoch 19/20\n",
      "16/16 [==============================] - 0s 7ms/step - loss: 0.1415 - binary_accuracy: 0.9439 - val_loss: 0.1193 - val_binary_accuracy: 0.9537\n",
      "Epoch 20/20\n",
      "16/16 [==============================] - 0s 7ms/step - loss: 0.1390 - binary_accuracy: 0.9491 - val_loss: 0.1152 - val_binary_accuracy: 0.9630\n"
     ]
    }
   ],
   "source": [
    "for c in range(np.max(labels)+1):\n",
    "    print('\\n\\nTraining predictions for cluster {0}'.format(c))\n",
    "    \n",
    "    idx = np.where(labels == c)[0]\n",
    "    X_train = X[idx]\n",
    "    Y_train = Y[idx]\n",
    "    \n",
    "    baseline_params = {\n",
    "    'name': 'baseline-32u-1l',\n",
    "    'optimizer': 'adam',\n",
    "    'loss': 'binary_crossentropy',\n",
    "    'metrics': ['binary_accuracy'],\n",
    "    'epochs': 20,\n",
    "    'batch_size': 64,\n",
    "    'verbose': 1\n",
    "    }\n",
    "    baseline = baseline_model()\n",
    "\n",
    "    x_train, x_val, y_train, y_val = train_val_split(X_train, Y_train)\n",
    "    train_model(baseline, x_train, y_train, x_val, y_val, baseline_params)\n",
    "    baseline.save_weights(MODEL_PATH + 'baseline_classifier_for_cluster_'+str(c))"
   ]
  }
 ],
 "metadata": {
  "kernelspec": {
   "display_name": "Python 3",
   "language": "python",
   "name": "python3"
  },
  "language_info": {
   "codemirror_mode": {
    "name": "ipython",
    "version": 3
   },
   "file_extension": ".py",
   "mimetype": "text/x-python",
   "name": "python",
   "nbconvert_exporter": "python",
   "pygments_lexer": "ipython3",
   "version": "3.7.4"
  }
 },
 "nbformat": 4,
 "nbformat_minor": 2
}
