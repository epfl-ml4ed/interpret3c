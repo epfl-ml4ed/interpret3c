{
 "cells": [
  {
   "cell_type": "code",
   "execution_count": 1,
   "metadata": {},
   "outputs": [],
   "source": [
    "# Useful imports and setup\n",
    "import sys\n",
    "import os\n",
    "# Necessary to import code from ../scripts/\n",
    "module_path = os.path.abspath(os.path.join('..'))\n",
    "if module_path not in sys.path:\n",
    "    sys.path.append(module_path+\"/scripts\")\n",
    "    \n",
    "import warnings\n",
    "warnings.filterwarnings(\"ignore\")\n",
    "    \n",
    "import random\n",
    "random.seed(0)\n",
    "\n",
    "import matplotlib.pyplot as plt\n",
    "import seaborn as sns\n",
    "import numpy as np\n",
    "import pandas as pd\n",
    "import math\n",
    "import operator\n",
    "from itertools import islice\n",
    "from scipy import stats\n",
    "from sklearn.preprocessing import MinMaxScaler\n",
    "\n",
    "from matplotlib import rc\n",
    "rc('font', **{'family': 'serif', 'serif': ['Computer Modern']})\n",
    "rc('text', usetex=True)\n",
    "rc('text.latex', preamble=r'\\usepackage{amsmath}\\usepackage{amssymb}')\n",
    "\n",
    "from preprocessing import preprocess\n",
    "\n",
    "%load_ext autoreload\n",
    "%autoreload 2\n",
    "\n",
    "results_path = '../results/'\n",
    "clustering_method = 'spectral_clustering'\n",
    "labels_path = '../labels/'\n",
    "course = 'dsp_001'\n",
    "norm= 'unit'"
   ]
  },
  {
   "cell_type": "code",
   "execution_count": 2,
   "metadata": {},
   "outputs": [],
   "source": [
    "def jaccard(list1, list2):\n",
    "    intersection = len(list(set(list1).intersection(list2)))\n",
    "    union = (len(list1) + len(list2)) - intersection\n",
    "    return float(intersection) / union\n",
    "\n",
    "\n",
    "def take(n, iterable):\n",
    "    \"\"\"Return the first n items of the iterable as a list.\"\"\"\n",
    "    return list(islice(iterable, n))"
   ]
  },
  {
   "cell_type": "markdown",
   "metadata": {},
   "source": [
    "### Jaccard Similarity"
   ]
  },
  {
   "cell_type": "code",
   "execution_count": 3,
   "metadata": {},
   "outputs": [],
   "source": [
    "df_importance_shap = pd.read_csv(results_path+course+'/shap/'+clustering_method+'/'+norm+'/features_importance.csv')\n",
    "df_importance_lime = pd.read_csv(results_path+course+'/lime/'+clustering_method+'/'+norm+'/features_importance.csv')"
   ]
  },
  {
   "cell_type": "code",
   "execution_count": 4,
   "metadata": {},
   "outputs": [],
   "source": [
    "scaler = MinMaxScaler()\n",
    "cols = df_importance_shap.columns\n",
    "df_importance_shap = pd.DataFrame(scaler.fit_transform(df_importance_shap.T).T, columns=cols)"
   ]
  },
  {
   "cell_type": "code",
   "execution_count": 5,
   "metadata": {},
   "outputs": [],
   "source": [
    "scaler = MinMaxScaler()\n",
    "cols = df_importance_lime.columns\n",
    "df_importance_lime = pd.DataFrame(scaler.fit_transform(df_importance_lime.T).T, columns=cols)"
   ]
  },
  {
   "cell_type": "code",
   "execution_count": 6,
   "metadata": {},
   "outputs": [],
   "source": [
    "zero_data = np.zeros(shape=(len(df_importance_shap)+len(df_importance_shap), len(df_importance_shap)+len(df_importance_shap)))\n",
    "cols = ['Lime'+str(i) for i in range(len(df_importance_lime))]\n",
    "cols.extend(['Shap'+str(i) for i in range(len(df_importance_shap))])\n",
    "d = pd.DataFrame(zero_data, columns=cols)\n",
    "\n",
    "data = []\n",
    "for i in range(len(df_importance_lime)):\n",
    "    data.append(list({k: v for k, v in df_importance_lime.iloc[i].to_dict().items() if (not isinstance(v, float)) or (not math.isnan(v))}.keys()))\n",
    "\n",
    "for i in range(len(df_importance_shap)):\n",
    "    data.append(take(10, dict(sorted(df_importance_shap.iloc[i].to_dict().items(), key=operator.itemgetter(1),reverse=True))))\n",
    "\n",
    "count = 0\n",
    "for i in range(len(d)):\n",
    "    for k,j in enumerate(d.columns):\n",
    "        d[j][i] = jaccard(data[i], data[k])"
   ]
  },
  {
   "cell_type": "code",
   "execution_count": 7,
   "metadata": {},
   "outputs": [
    {
     "data": {
      "image/png": "[encoded data removed]",
      "text/plain": [
       "<Figure size 576x432 with 2 Axes>"
      ]
     },
     "metadata": {},
     "output_type": "display_data"
    }
   ],
   "source": [
    "fig, ax = plt.subplots(figsize=(8, 6),facecolor='white')\n",
    "g = sns.heatmap(d, vmin=0, vmax=1.0, fmt=\".2f\",ax=ax, cmap=\"YlGnBu\", annot_kws={\"size\": 16})\n",
    "l=list(np.arange(1,6+1))\n",
    "g.set(xlabel='LIME \\qquad \\qquad \\qquad \\qquad SHAP', ylabel='SHAP \\qquad \\qquad \\qquad \\qquad LIME')\n",
    "g.xaxis.get_label().set_fontsize(18)\n",
    "g.yaxis.get_label().set_fontsize(18)\n",
    "g.set_xticklabels(['0', '1', '2', '3', '4', '0', '1', '2', '3', '4'],rotation=0, fontsize=16)\n",
    "g.set_yticklabels(['0', '1', '2', '3', '4', '0', '1', '2', '3', '4'],rotation=0, fontsize=16)\n",
    "cbar = ax.collections[0].colorbar\n",
    "cbar.ax.tick_params(labelsize=16)\n",
    "\n",
    "\n",
    "plt.savefig(\"../images/unit/jaccard_shap_lime.jpeg\", bbox_inches='tight')\n",
    "\n",
    "plt.show()"
   ]
  },
  {
   "cell_type": "code",
   "execution_count": 8,
   "metadata": {},
   "outputs": [],
   "source": [
    "df_importance_interC3 = pd.read_csv(results_path+course+'/inter-c3/'+norm+'/features_importance.csv')"
   ]
  },
  {
   "cell_type": "code",
   "execution_count": 9,
   "metadata": {},
   "outputs": [],
   "source": [
    "best10_shap_cluster0 = take(10, dict(sorted(df_importance_shap.iloc[0].to_dict().items(), key=operator.itemgetter(1),reverse=True)))\n",
    "best10_lime_cluster0 = list({k: v for k, v in df_importance_lime.iloc[0].to_dict().items() if (not isinstance(v, float)) or (not math.isnan(v))}.keys())\n",
    "best10_interc3_cluster5 = take(10, dict(sorted(df_importance_interC3.iloc[5].to_dict().items(), key=operator.itemgetter(1),reverse=True)))"
   ]
  },
  {
   "cell_type": "code",
   "execution_count": 10,
   "metadata": {},
   "outputs": [],
   "source": [
    "zero_data = np.zeros((3, 3))\n",
    "cols = ['LIME', 'SHAP', 'InterC3']\n",
    "d = pd.DataFrame(zero_data, columns=cols)\n",
    "\n",
    "data = [best10_lime_cluster0, best10_shap_cluster0, best10_interc3_cluster5]\n",
    "\n",
    "count = 0\n",
    "for i in range(len(d)):\n",
    "    for k,j in enumerate(d.columns):\n",
    "        d[j][i] = jaccard(data[i], data[k])"
   ]
  },
  {
   "cell_type": "code",
   "execution_count": 11,
   "metadata": {},
   "outputs": [
    {
     "data": {
      "image/png": "[encoded data removed]",
      "text/plain": [
       "<Figure size 576x432 with 2 Axes>"
      ]
     },
     "metadata": {},
     "output_type": "display_data"
    }
   ],
   "source": [
    "fig, ax = plt.subplots(figsize=(8, 6),facecolor='white')\n",
    "g = sns.heatmap(d, vmin=0.2, vmax=1.0, fmt=\".2f\",ax=ax, cmap=\"YlGnBu\")\n",
    "l=list(np.arange(1,6+1))\n",
    "g.xaxis.get_label().set_fontsize(16)\n",
    "g.yaxis.get_label().set_fontsize(16)\n",
    "g.set_xticklabels(['LIME', 'SHAP', 'InterC3'],rotation=0, fontsize=18)\n",
    "g.set_yticklabels(['LIME', 'SHAP', 'InterC3'],rotation=0, fontsize=18)\n",
    "cbar = ax.collections[0].colorbar\n",
    "cbar.ax.tick_params(labelsize=16)\n",
    "\n",
    "plt.savefig(\"../images/unit/jaccard_shap_lime_interc3.jpeg\", bbox_inches='tight')\n",
    "plt.show()"
   ]
  },
  {
   "cell_type": "markdown",
   "metadata": {},
   "source": [
    "### Spearman's Rank Correlation"
   ]
  },
  {
   "cell_type": "code",
   "execution_count": 12,
   "metadata": {},
   "outputs": [],
   "source": [
    "df_importance = pd.concat([df_importance_shap, df_importance_lime])"
   ]
  },
  {
   "cell_type": "code",
   "execution_count": 13,
   "metadata": {},
   "outputs": [],
   "source": [
    "df_importance = df_importance.fillna(0)"
   ]
  },
  {
   "cell_type": "code",
   "execution_count": 14,
   "metadata": {},
   "outputs": [],
   "source": [
    "zero_data = np.zeros(shape=(len(df_importance_shap)+len(df_importance_shap), len(df_importance_shap)+len(df_importance_shap)))\n",
    "cols = ['Lime'+str(i) for i in range(len(df_importance_lime))]\n",
    "cols.extend(['Shap'+str(i) for i in range(len(df_importance_shap))])\n",
    "d = pd.DataFrame(zero_data, columns=cols)\n",
    "\n",
    "data = []\n",
    "for i in range(len(df_importance_lime)):\n",
    "    data.append(df_importance.iloc[i+len(df_importance_shap)])\n",
    "\n",
    "for i in range(len(df_importance_shap)):\n",
    "    data.append(df_importance.iloc[i])\n",
    "\n",
    "count = 0\n",
    "for i in range(len(d)):\n",
    "    for k,j in enumerate(d.columns):\n",
    "        d[j][i] = stats.spearmanr(data[i], data[k])[0]"
   ]
  },
  {
   "cell_type": "code",
   "execution_count": 15,
   "metadata": {},
   "outputs": [
    {
     "data": {
      "image/png": "[encoded data removed]",
      "text/plain": [
       "<Figure size 576x432 with 2 Axes>"
      ]
     },
     "metadata": {},
     "output_type": "display_data"
    }
   ],
   "source": [
    "fig, ax = plt.subplots(figsize=(8, 6),facecolor='white')\n",
    "g = sns.heatmap(d, vmin=0, vmax=1.0, fmt=\".2f\",ax=ax, cmap=\"YlGnBu\")\n",
    "l=list(np.arange(1,6+1))\n",
    "g.set(xlabel='LIME \\qquad \\qquad \\qquad \\qquad  SHAP', ylabel='SHAP \\qquad \\qquad \\qquad \\qquad  LIME')\n",
    "g.xaxis.get_label().set_fontsize(18)\n",
    "g.yaxis.get_label().set_fontsize(18)\n",
    "g.set_xticklabels(['0', '1', '2', '3', '4', '0', '1', '2', '3', '4'],rotation=0, fontsize=16)\n",
    "g.set_yticklabels(['0', '1', '2', '3', '4', '0', '1', '2', '3', '4'],rotation=0, fontsize=16)\n",
    "cbar = ax.collections[0].colorbar\n",
    "cbar.ax.tick_params(labelsize=16)\n",
    "\n",
    "\n",
    "plt.savefig(\"../images/unit/spearman_shap_lime.jpeg\", bbox_inches='tight')\n",
    "plt.show()"
   ]
  },
  {
   "cell_type": "code",
   "execution_count": 16,
   "metadata": {},
   "outputs": [],
   "source": [
    "df_importance = pd.concat([df_importance, df_importance_interC3])"
   ]
  },
  {
   "cell_type": "code",
   "execution_count": 17,
   "metadata": {},
   "outputs": [],
   "source": [
    "df_importance = df_importance.fillna(0)"
   ]
  },
  {
   "cell_type": "code",
   "execution_count": 18,
   "metadata": {},
   "outputs": [],
   "source": [
    "zero_data = np.zeros((3, 3))\n",
    "cols = ['LIME', 'SHAP', 'InterC3']\n",
    "\n",
    "d = pd.DataFrame(zero_data, columns=cols)\n",
    "\n",
    "data = [df_importance.iloc[len(df_importance_shap)], df_importance.iloc[0], df_importance.iloc[2*len(df_importance_shap)+5]]\n",
    "\n",
    "count = 0\n",
    "for i in range(len(d)):\n",
    "    for k,j in enumerate(d.columns):\n",
    "        d[j][i] = stats.spearmanr(data[i], data[k])[0]"
   ]
  },
  {
   "cell_type": "code",
   "execution_count": 19,
   "metadata": {},
   "outputs": [
    {
     "data": {
      "image/png": "[encoded data removed]",
      "text/plain": [
       "<Figure size 576x432 with 2 Axes>"
      ]
     },
     "metadata": {},
     "output_type": "display_data"
    }
   ],
   "source": [
    "fig, ax = plt.subplots(figsize=(8, 6),facecolor='white')\n",
    "g = sns.heatmap(d,vmin=0.2, vmax=1.0, fmt=\".2f\",ax=ax, cmap=\"YlGnBu\")\n",
    "l=list(np.arange(1,6+1))\n",
    "g.xaxis.get_label().set_fontsize(18)\n",
    "g.yaxis.get_label().set_fontsize(18)\n",
    "g.set_xticklabels(['LIME', 'SHAP', 'InterC3'],rotation=0, fontsize=18)\n",
    "g.set_yticklabels(['LIME', 'SHAP', 'InterC3'],rotation=0, fontsize=18)\n",
    "cbar = ax.collections[0].colorbar\n",
    "cbar.ax.tick_params(labelsize=16)\n",
    "\n",
    "plt.savefig(\"../images/unit/spearman_shap_lime_interc3.jpeg\", bbox_inches='tight')\n",
    "plt.show()"
   ]
  },
  {
   "cell_type": "code",
   "execution_count": 20,
   "metadata": {},
   "outputs": [],
   "source": [
    "labels_cluster_path = labels_path + course + '/spectral_clustering/'\n",
    "labels_masked = np.loadtxt(labels_cluster_path+'inter-c3/cluster_unit_norm_0.5_perc_0.4_gamma_0.6.txt', dtype=int)\n",
    "labels_baseline = np.loadtxt(labels_cluster_path+'baseline_unit_norm_perc_0.4_gamma_0.6.txt', dtype=int)"
   ]
  },
  {
   "cell_type": "code",
   "execution_count": 21,
   "metadata": {},
   "outputs": [],
   "source": [
    "similarity = {}\n",
    "value = {}\n",
    "for i in range(np.max(labels_masked)+1):\n",
    "    masked = np.where(labels_masked == i)[0]\n",
    "    max_similarity = 0\n",
    "    idx_sim = -1\n",
    "    for j in range(np.max(labels_baseline)+1):\n",
    "        sim = jaccard(masked, np.where(labels_baseline == j)[0])\n",
    "        if sim > max_similarity:\n",
    "            max_similarity = sim\n",
    "            idx_sim = j\n",
    "    similarity[i] = idx_sim\n",
    "    value[i] = max_similarity"
   ]
  },
  {
   "cell_type": "code",
   "execution_count": 22,
   "metadata": {},
   "outputs": [
    {
     "data": {
      "text/plain": [
       "{0: 4, 1: 2, 2: 3, 3: 3, 4: 1, 5: 0}"
      ]
     },
     "execution_count": 22,
     "metadata": {},
     "output_type": "execute_result"
    }
   ],
   "source": [
    "similarity"
   ]
  },
  {
   "cell_type": "code",
   "execution_count": 23,
   "metadata": {},
   "outputs": [],
   "source": [
    "best10_lime_cluster1 = take(10, dict(sorted(df_importance_lime.iloc[1].to_dict().items(), key=operator.itemgetter(1),reverse=True)))\n",
    "best10_lime_cluster2 = list({k: v for k, v in df_importance_lime.iloc[2].to_dict().items() if (not isinstance(v, float)) or (not math.isnan(v))}.keys())"
   ]
  },
  {
   "cell_type": "code",
   "execution_count": 24,
   "metadata": {},
   "outputs": [
    {
     "data": {
      "text/plain": [
       "{0: 0.5212557226945717,\n",
       " 1: 0.4333120612635609,\n",
       " 2: 0.37317073170731707,\n",
       " 3: 0.35936546674801706,\n",
       " 4: 0.6844368013757524,\n",
       " 5: 0.7802547770700637}"
      ]
     },
     "execution_count": 24,
     "metadata": {},
     "output_type": "execute_result"
    }
   ],
   "source": [
    "value"
   ]
  },
  {
   "cell_type": "code",
   "execution_count": 25,
   "metadata": {},
   "outputs": [
    {
     "data": {
      "text/plain": [
       "['content_alignment',\n",
       " 'student_speed',\n",
       " 'time_between_sessions std',\n",
       " 'time_sessions sum',\n",
       " 'regularity_peak_dayhour',\n",
       " 'time_in__video sum',\n",
       " 'weekly_prop_watched mean',\n",
       " 'regularity_periodicity_m1',\n",
       " 'delay_lecture',\n",
       " 'time_in__problem sum']"
      ]
     },
     "execution_count": 25,
     "metadata": {},
     "output_type": "execute_result"
    }
   ],
   "source": [
    "best10_lime_cluster1"
   ]
  },
  {
   "cell_type": "code",
   "execution_count": 26,
   "metadata": {},
   "outputs": [
    {
     "data": {
      "text/plain": [
       "['student_speed',\n",
       " 'time_between_sessions std',\n",
       " 'time_sessions sum',\n",
       " 'time_in__problem sum',\n",
       " 'student_shape',\n",
       " 'delay_lecture',\n",
       " 'weekly_prop_replayed mean']"
      ]
     },
     "execution_count": 26,
     "metadata": {},
     "output_type": "execute_result"
    }
   ],
   "source": [
    "best10_lime_cluster2"
   ]
  },
  {
   "cell_type": "code",
   "execution_count": 27,
   "metadata": {},
   "outputs": [
    {
     "data": {
      "text/plain": [
       "['total_clicks_Video.Load',\n",
       " 'total_clicks_Video',\n",
       " 'time_between_sessions std',\n",
       " 'time_in__problem sum',\n",
       " 'student_speed',\n",
       " 'time_sessions sum',\n",
       " 'time_in__video sum',\n",
       " 'content_alignment']"
      ]
     },
     "execution_count": 27,
     "metadata": {},
     "output_type": "execute_result"
    }
   ],
   "source": [
    "best10_interc3_cluster5"
   ]
  },
  {
   "cell_type": "code",
   "execution_count": null,
   "metadata": {},
   "outputs": [],
   "source": []
  }
 ],
 "metadata": {
  "kernelspec": {
   "display_name": "Python 3",
   "language": "python",
   "name": "python3"
  },
  "language_info": {
   "codemirror_mode": {
    "name": "ipython",
    "version": 3
   },
   "file_extension": ".py",
   "mimetype": "text/x-python",
   "name": "python",
   "nbconvert_exporter": "python",
   "pygments_lexer": "ipython3",
   "version": "3.7.4"
  }
 },
 "nbformat": 4,
 "nbformat_minor": 2
}
