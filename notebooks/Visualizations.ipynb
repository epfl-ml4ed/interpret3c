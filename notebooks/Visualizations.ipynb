{
 "cells": [
  {
   "cell_type": "code",
   "execution_count": 54,
   "metadata": {},
   "outputs": [
    {
     "name": "stdout",
     "output_type": "stream",
     "text": [
      "The autoreload extension is already loaded. To reload it, use:\n",
      "  %reload_ext autoreload\n"
     ]
    }
   ],
   "source": [
    "# Useful imports and setup\n",
    "import sys\n",
    "import os\n",
    "# Necessary to import code from ../scripts/\n",
    "module_path = os.path.abspath(os.path.join('..'))\n",
    "if module_path not in sys.path:\n",
    "    sys.path.append(module_path+\"/scripts\")\n",
    "    \n",
    "import warnings\n",
    "warnings.filterwarnings(\"ignore\")\n",
    "    \n",
    "import random\n",
    "random.seed(0)\n",
    "\n",
    "import matplotlib.pyplot as plt\n",
    "import seaborn as sns\n",
    "import numpy as np\n",
    "import pandas as pd\n",
    "import math\n",
    "import operator\n",
    "from itertools import islice\n",
    "from scipy import stats\n",
    "from sklearn.preprocessing import MinMaxScaler\n",
    "\n",
    "%load_ext autoreload\n",
    "%autoreload 2\n",
    "\n",
    "results_path = '../results/'\n",
    "clustering_method = 'spectral_clustering'\n",
    "labels_path = '../labels/'"
   ]
  },
  {
   "cell_type": "code",
   "execution_count": 2,
   "metadata": {},
   "outputs": [],
   "source": [
    "def jaccard(list1, list2):\n",
    "    intersection = len(list(set(list1).intersection(list2)))\n",
    "    union = (len(list1) + len(list2)) - intersection\n",
    "    return float(intersection) / union\n",
    "\n",
    "\n",
    "def take(n, iterable):\n",
    "    \"\"\"Return the first n items of the iterable as a list.\"\"\"\n",
    "    return list(islice(iterable, n))"
   ]
  },
  {
   "cell_type": "markdown",
   "metadata": {},
   "source": [
    "### Jaccard Similarity"
   ]
  },
  {
   "cell_type": "code",
   "execution_count": 94,
   "metadata": {},
   "outputs": [],
   "source": [
    "df_importance_shap = pd.read_csv(results_path+'shap/'+clustering_method+'/features_importance.csv')\n",
    "df_importance_lime = pd.read_csv(results_path+'lime/'+clustering_method+'/features_importance.csv')"
   ]
  },
  {
   "cell_type": "code",
   "execution_count": 95,
   "metadata": {},
   "outputs": [],
   "source": [
    "scaler = MinMaxScaler()\n",
    "cols = df_importance_shap.columns\n",
    "df_importance_shap = pd.DataFrame(scaler.fit_transform(df_importance_shap.T).T, columns=cols)"
   ]
  },
  {
   "cell_type": "code",
   "execution_count": 96,
   "metadata": {},
   "outputs": [],
   "source": [
    "scaler = MinMaxScaler()\n",
    "cols = df_importance_lime.columns\n",
    "df_importance_lime = pd.DataFrame(scaler.fit_transform(df_importance_lime.T).T, columns=cols)"
   ]
  },
  {
   "cell_type": "code",
   "execution_count": 97,
   "metadata": {},
   "outputs": [],
   "source": [
    "zero_data = np.zeros(shape=(len(df_importance_shap)+len(df_importance_shap), len(df_importance_shap)+len(df_importance_shap)))\n",
    "cols = ['Lime_'+str(i) for i in range(len(df_importance_lime))]\n",
    "cols.extend(['Shap_'+str(i) for i in range(len(df_importance_shap))])\n",
    "d = pd.DataFrame(zero_data, columns=cols)\n",
    "\n",
    "data = []\n",
    "for i in range(len(df_importance_lime)):\n",
    "    data.append(list({k: v for k, v in df_importance_lime.iloc[i].to_dict().items() if (not isinstance(v, float)) or (not math.isnan(v))}.keys()))\n",
    "\n",
    "for i in range(len(df_importance_shap)):\n",
    "    data.append(take(10, dict(sorted(df_importance_shap.iloc[i].to_dict().items(), key=operator.itemgetter(1),reverse=True))))\n",
    "\n",
    "count = 0\n",
    "for i in range(len(d)):\n",
    "    for k,j in enumerate(d.columns):\n",
    "        d[j][i] = jaccard(data[i], data[k])"
   ]
  },
  {
   "cell_type": "code",
   "execution_count": 98,
   "metadata": {},
   "outputs": [
    {
     "data": {
      "image/png": "[encoded data removed]",
      "text/plain": [
       "<Figure size 576x432 with 2 Axes>"
      ]
     },
     "metadata": {},
     "output_type": "display_data"
    }
   ],
   "source": [
    "fig, ax = plt.subplots(figsize=(8, 6),facecolor='white')\n",
    "g = sns.heatmap(d, fmt=\".2f\",ax=ax, cmap=\"YlGnBu\")\n",
    "l=list(np.arange(1,6+1))\n",
    "g.set(xlabel='LIME                                SHAP', ylabel='SHAP                          LIME')\n",
    "g.xaxis.get_label().set_fontsize(14)\n",
    "g.yaxis.get_label().set_fontsize(14)\n",
    "g.set_xticklabels(['0', '1', '2', '3', '0', '1', '2', '3'],rotation=0)\n",
    "g.set_yticklabels(['0', '1', '2', '3', '0', '1', '2', '3'],rotation=0)\n",
    "plt.show()"
   ]
  },
  {
   "cell_type": "code",
   "execution_count": 99,
   "metadata": {},
   "outputs": [],
   "source": [
    "df_importance_interC3 = pd.read_csv(results_path+'inter-c3/'+clustering_method+'/features_importance.csv')"
   ]
  },
  {
   "cell_type": "code",
   "execution_count": 100,
   "metadata": {},
   "outputs": [],
   "source": [
    "best10_shap_cluster3 = take(10, dict(sorted(df_importance_shap.iloc[3].to_dict().items(), key=operator.itemgetter(1),reverse=True)))\n",
    "best10_lime_cluster3 = list({k: v for k, v in df_importance_lime.iloc[3].to_dict().items() if (not isinstance(v, float)) or (not math.isnan(v))}.keys())\n",
    "best10_interc3_cluster0 = take(10, dict(sorted(df_importance_interC3.iloc[0].to_dict().items(), key=operator.itemgetter(1),reverse=True)))"
   ]
  },
  {
   "cell_type": "code",
   "execution_count": 101,
   "metadata": {},
   "outputs": [],
   "source": [
    "zero_data = np.zeros((3, 3))\n",
    "cols = ['LIME', 'SHAP', 'InterC3']\n",
    "d = pd.DataFrame(zero_data, columns=cols)\n",
    "\n",
    "data = [best10_shap_cluster3, best10_lime_cluster3, best10_interc3_cluster0]\n",
    "\n",
    "count = 0\n",
    "for i in range(len(d)):\n",
    "    for k,j in enumerate(d.columns):\n",
    "        d[j][i] = jaccard(data[i], data[k])"
   ]
  },
  {
   "cell_type": "code",
   "execution_count": 102,
   "metadata": {},
   "outputs": [
    {
     "data": {
      "image/png": "[encoded data removed]",
      "text/plain": [
       "<Figure size 576x432 with 2 Axes>"
      ]
     },
     "metadata": {},
     "output_type": "display_data"
    }
   ],
   "source": [
    "fig, ax = plt.subplots(figsize=(8, 6),facecolor='white')\n",
    "g = sns.heatmap(d, fmt=\".2f\",ax=ax, cmap=\"YlGnBu\")\n",
    "l=list(np.arange(1,6+1))\n",
    "# g.set(xlabel='LIME                                SHAP', ylabel='SHAP                          LIME')\n",
    "g.xaxis.get_label().set_fontsize(14)\n",
    "g.yaxis.get_label().set_fontsize(14)\n",
    "# g.set_xticklabels(['0', '1', '0', '1'],rotation=0)\n",
    "g.set_yticklabels(['LIME', 'SHAP', 'InterC3'],rotation=0)\n",
    "plt.show()"
   ]
  },
  {
   "cell_type": "markdown",
   "metadata": {},
   "source": [
    "### Spearman's Rank Correlation"
   ]
  },
  {
   "cell_type": "code",
   "execution_count": 103,
   "metadata": {},
   "outputs": [],
   "source": [
    "df_importance = pd.concat([df_importance_shap, df_importance_lime])"
   ]
  },
  {
   "cell_type": "code",
   "execution_count": 104,
   "metadata": {},
   "outputs": [],
   "source": [
    "df_importance = df_importance.fillna(0)"
   ]
  },
  {
   "cell_type": "code",
   "execution_count": 105,
   "metadata": {},
   "outputs": [],
   "source": [
    "zero_data = np.zeros(shape=(len(df_importance_shap)+len(df_importance_shap), len(df_importance_shap)+len(df_importance_shap)))\n",
    "cols = ['Lime_'+str(i) for i in range(len(df_importance_lime))]\n",
    "cols.extend(['Shap_'+str(i) for i in range(len(df_importance_shap))])\n",
    "d = pd.DataFrame(zero_data, columns=cols)\n",
    "\n",
    "data = []\n",
    "for i in range(len(df_importance_lime)):\n",
    "    data.append(df_importance.iloc[i+len(df_importance_shap)])\n",
    "\n",
    "for i in range(len(df_importance_shap)):\n",
    "    data.append(df_importance.iloc[i])\n",
    "\n",
    "count = 0\n",
    "for i in range(len(d)):\n",
    "    for k,j in enumerate(d.columns):\n",
    "        d[j][i] = stats.spearmanr(data[i], data[k])[0]"
   ]
  },
  {
   "cell_type": "code",
   "execution_count": 106,
   "metadata": {},
   "outputs": [
    {
     "data": {
      "image/png": "[encoded data removed]",
      "text/plain": [
       "<Figure size 576x432 with 2 Axes>"
      ]
     },
     "metadata": {},
     "output_type": "display_data"
    }
   ],
   "source": [
    "fig, ax = plt.subplots(figsize=(8, 6),facecolor='white')\n",
    "g = sns.heatmap(d, fmt=\".2f\",ax=ax, cmap=\"YlGnBu\")\n",
    "l=list(np.arange(1,6+1))\n",
    "g.set(xlabel='LIME                                SHAP', ylabel='SHAP                          LIME')\n",
    "g.xaxis.get_label().set_fontsize(14)\n",
    "g.yaxis.get_label().set_fontsize(14)\n",
    "g.set_xticklabels(['0', '1', '2', '3', '0', '1', '2', '3'],rotation=0)\n",
    "g.set_yticklabels(['0', '1', '2', '3', '0', '1', '2', '3'],rotation=0)\n",
    "plt.show()"
   ]
  },
  {
   "cell_type": "code",
   "execution_count": 107,
   "metadata": {},
   "outputs": [],
   "source": [
    "df_importance = pd.concat([df_importance, df_importance_interC3])"
   ]
  },
  {
   "cell_type": "code",
   "execution_count": 112,
   "metadata": {},
   "outputs": [],
   "source": [
    "df_importance = df_importance.fillna(0)"
   ]
  },
  {
   "cell_type": "code",
   "execution_count": 114,
   "metadata": {},
   "outputs": [],
   "source": [
    "zero_data = np.zeros((3, 3))\n",
    "cols = ['LIME', 'SHAP', 'InterC3']\n",
    "\n",
    "d = pd.DataFrame(zero_data, columns=cols)\n",
    "\n",
    "data = [df_importance.iloc[3+len(df_importance_shap)], df_importance.iloc[3], df_importance.iloc[2*len(df_importance_shap)]]\n",
    "\n",
    "count = 0\n",
    "for i in range(len(d)):\n",
    "    for k,j in enumerate(d.columns):\n",
    "        d[j][i] = stats.spearmanr(data[i], data[k])[0]"
   ]
  },
  {
   "cell_type": "code",
   "execution_count": 115,
   "metadata": {},
   "outputs": [
    {
     "data": {
      "image/png": "[encoded data removed]",
      "text/plain": [
       "<Figure size 576x432 with 2 Axes>"
      ]
     },
     "metadata": {},
     "output_type": "display_data"
    }
   ],
   "source": [
    "fig, ax = plt.subplots(figsize=(8, 6),facecolor='white')\n",
    "g = sns.heatmap(d, fmt=\".2f\",ax=ax, cmap=\"YlGnBu\")\n",
    "l=list(np.arange(1,6+1))\n",
    "# g.set(xlabel='LIME                                SHAP', ylabel='SHAP                          LIME')\n",
    "g.xaxis.get_label().set_fontsize(14)\n",
    "g.yaxis.get_label().set_fontsize(14)\n",
    "# g.set_xticklabels(['0', '1', '0', '1'],rotation=0)\n",
    "g.set_yticklabels(['LIME', 'SHAP', 'InterC3'],rotation=0)\n",
    "plt.show()"
   ]
  },
  {
   "cell_type": "code",
   "execution_count": 55,
   "metadata": {},
   "outputs": [],
   "source": [
    "labels_cluster_path = labels_path + 'spectral_clustering/'\n",
    "labels_masked = np.loadtxt(labels_cluster_path+'masked_hard_fail_perc_0.6_gamma_0.6.txt', dtype=int)\n",
    "labels_baseline = np.loadtxt(labels_cluster_path+'baseline_cluster_labels_perc_0.6_gamma_0.6.txt', dtype=int)"
   ]
  },
  {
   "cell_type": "code",
   "execution_count": 122,
   "metadata": {},
   "outputs": [],
   "source": [
    "similarity = {}\n",
    "for i in range(np.max(labels_masked)+1):\n",
    "    masked = np.where(labels_masked == i)[0]\n",
    "    max_similarity = 0\n",
    "    idx_sim = -1\n",
    "    for j in range(np.max(labels_baseline)+1):\n",
    "        sim = jaccard(masked, np.where(labels_baseline == j)[0])\n",
    "        if sim > max_similarity:\n",
    "            max_similarity = sim\n",
    "            idx_sim = j\n",
    "    similarity[i] = idx_sim"
   ]
  },
  {
   "cell_type": "code",
   "execution_count": 123,
   "metadata": {},
   "outputs": [
    {
     "data": {
      "text/plain": [
       "{0: 3, 1: 2, 2: 2}"
      ]
     },
     "execution_count": 123,
     "metadata": {},
     "output_type": "execute_result"
    }
   ],
   "source": [
    "similarity"
   ]
  },
  {
   "cell_type": "code",
   "execution_count": 124,
   "metadata": {},
   "outputs": [
    {
     "data": {
      "text/plain": [
       "['competency_anticipation',\n",
       " 'competency_strength',\n",
       " 'total_clicks_problem',\n",
       " 'competency_alignment',\n",
       " 'time_sessions mean',\n",
       " 'student_speed',\n",
       " 'regularity_periodicity_m1',\n",
       " 'delay_lecture',\n",
       " 'time_in__problem sum',\n",
       " 'frequency_action_Video.Load']"
      ]
     },
     "execution_count": 124,
     "metadata": {},
     "output_type": "execute_result"
    }
   ],
   "source": [
    "best10_shap_cluster3 "
   ]
  },
  {
   "cell_type": "code",
   "execution_count": 125,
   "metadata": {},
   "outputs": [
    {
     "data": {
      "text/plain": [
       "['competency_anticipation',\n",
       " 'competency_strength',\n",
       " 'student_shape',\n",
       " 'competency_alignment',\n",
       " 'delay_lecture',\n",
       " 'weekly_prop_replayed mean']"
      ]
     },
     "execution_count": 125,
     "metadata": {},
     "output_type": "execute_result"
    }
   ],
   "source": [
    "best10_lime_cluster3"
   ]
  },
  {
   "cell_type": "code",
   "execution_count": 126,
   "metadata": {},
   "outputs": [
    {
     "data": {
      "text/plain": [
       "['regularity_periodicity_m1',\n",
       " 'total_clicks',\n",
       " 'time_sessions sum',\n",
       " 'time_sessions mean',\n",
       " 'total_clicks_weekend',\n",
       " 'total_clicks_problem',\n",
       " 'time_in__problem sum',\n",
       " 'competency_strength',\n",
       " 'competency_anticipation',\n",
       " 'student_speed']"
      ]
     },
     "execution_count": 126,
     "metadata": {},
     "output_type": "execute_result"
    }
   ],
   "source": [
    "best10_interc3_cluster0"
   ]
  },
  {
   "cell_type": "code",
   "execution_count": null,
   "metadata": {},
   "outputs": [],
   "source": []
  }
 ],
 "metadata": {
  "kernelspec": {
   "display_name": "Python 3",
   "language": "python",
   "name": "python3"
  },
  "language_info": {
   "codemirror_mode": {
    "name": "ipython",
    "version": 3
   },
   "file_extension": ".py",
   "mimetype": "text/x-python",
   "name": "python",
   "nbconvert_exporter": "python",
   "pygments_lexer": "ipython3",
   "version": "3.7.4"
  }
 },
 "nbformat": 4,
 "nbformat_minor": 2
}
